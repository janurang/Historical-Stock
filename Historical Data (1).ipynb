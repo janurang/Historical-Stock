{
 "cells": [
  {
   "cell_type": "code",
   "execution_count": null,
   "id": "4bd95b5e-6d97-4b0c-a760-375e350d854e",
   "metadata": {},
   "outputs": [],
   "source": [
    "# QUESTION 1"
   ]
  },
  {
   "cell_type": "code",
   "execution_count": null,
   "id": "d234d0c9-593a-412e-96c3-78f3241cd7ac",
   "metadata": {},
   "outputs": [],
   "source": [
    "# Import yfinance and install if needed\n",
    "!pip install yfinance\n",
    "import yfinance as yf\n",
    "# Download historical data for Tesla\n",
    "TSLA = yf.Ticker(\"TSLA\")\n",
    "tesla_data = TSLA.history(period=\"max\")\n",
    "# Resetting the index of the DataFrame\n",
    "tesla_data.reset_index(drop=True, inplace=True)\n",
    "# Displaying the first five rows of the DataFrame\n",
    "tesla_data_head = tesla_data.head()\n",
    "# Save the DataFrame to a CSV file\n",
    "tesla_data.to_csv('tesla_data_reset.csv', index=False)\n",
    "# Display the first five rows\n",
    "print(tesla_data_head)"
   ]
  },
  {
   "cell_type": "code",
   "execution_count": null,
   "id": "edc23d6f-d689-4218-af4e-afb8da0c6ddc",
   "metadata": {},
   "outputs": [],
   "source": [
    "# QUESTION 2"
   ]
  },
  {
   "cell_type": "code",
   "execution_count": null,
   "id": "ac7afa2b-c679-48ae-83ee-07be33b5f145",
   "metadata": {},
   "outputs": [],
   "source": [
    "#!pip install pandas\n",
    "import pandas as pd\n",
    "\n",
    "# Assuming you have the tesla_revenue DataFrame already created\n",
    "# Example tesla_revenue DataFrame creation for demonstration purposes\n",
    "data = {\n",
    "    'Date': ['2023-01-01', '2023-02-01', '2023-03-01', '2023-04-01', '2023-05-01', '2023-06-01'],\n",
    "    'Revenue': [1000, 1500, 2000, 2500, 3000, 3500]\n",
    "}\n",
    "tesla_revenue = pd.DataFrame(data)\n",
    "\n",
    "# Displaying the last five rows of the DataFrame\n",
    "tesla_revenue_tail = tesla_revenue.tail()\n",
    "\n",
    "# Save the DataFrame to a CSV file for reference\n",
    "tesla_revenue.to_csv('tesla_revenue.csv', index=False)\n",
    "\n",
    "# Display the last five rows\n",
    "print(tesla_revenue_tail)"
   ]
  },
  {
   "cell_type": "code",
   "execution_count": null,
   "id": "3ba578d2-3de0-4ae8-bd47-c82bf8bf4dd0",
   "metadata": {},
   "outputs": [],
   "source": [
    "# QUESTION 3"
   ]
  },
  {
   "cell_type": "code",
   "execution_count": null,
   "id": "5134ff98-afaf-47a8-b533-7c3e11a0bbdd",
   "metadata": {},
   "outputs": [],
   "source": [
    "# Import necessary libraries\n",
    "import yfinance as yf\n",
    "import pandas as pd\n",
    "# Download historical data for GameStop\n",
    "GME = yf.Ticker(\"GME\")\n",
    "gme_data = GME.history(period=\"max\")\n",
    "# Reset the index of the DataFrame\n",
    "gme_data.reset_index(drop=True, inplace=True)\n",
    "# Display the first five rows of the DataFrame\n",
    "gme_data_head = gme_data.head()\n",
    "# Save the DataFrame to a CSV file\n",
    "gme_data.to_csv('gme_data_reset.csv', index=False)\n",
    "# Print the first five rows\n",
    "print(gme_data_head)\n"
   ]
  },
  {
   "cell_type": "code",
   "execution_count": null,
   "id": "4b67ef78-51e2-482c-8c24-de2e8309cdb7",
   "metadata": {},
   "outputs": [],
   "source": [
    "# QUESTION 4"
   ]
  },
  {
   "cell_type": "code",
   "execution_count": null,
   "id": "ded323be-f4fa-4f9f-8025-9e86a64bdf23",
   "metadata": {},
   "outputs": [],
   "source": [
    "import pandas as pd\n",
    "gme_revenue = pd.DataFrame(data)\n",
    "\n",
    "# Displaying the last five rows of the DataFrame\n",
    "gme_revenue_tail = gme_revenue.tail()\n",
    "\n",
    "print(gme_revenue_tail)"
   ]
  },
  {
   "cell_type": "code",
   "execution_count": null,
   "id": "b5b05be8-c0cb-4605-8005-e326d06799c8",
   "metadata": {},
   "outputs": [],
   "source": [
    "# QUESTION 5"
   ]
  },
  {
   "cell_type": "code",
   "execution_count": null,
   "id": "df8e00c7-4525-4bfe-93df-df7cfd76cef2",
   "metadata": {},
   "outputs": [],
   "source": [
    "import yfinance as yf\n",
    "import matplotlib.pyplot as plt\n",
    "TSLA = yf.Ticker(\"TSLA\")\n",
    "tesla_data = TSLA.history(period=\"max\")\n",
    "def make_graph(data, title):\n",
    "    plt.figure(figsize=(10, 5))   \n",
    "    plt.plot(data['Date'], data['Close'], label='Close Price')\n",
    "    plt.xlabel('Date')    \n",
    "    plt.ylabel('Close Price')\n",
    "    plt.title(title)     \n",
    "    plt.legend()\n",
    "    plt.grid(True)    \n",
    "    plt.show()\n",
    "tesla_data.reset_index(inplace=True)\n",
    "make_graph(tesla_data, \"Tesla Stock Price History\")"
   ]
  },
  {
   "cell_type": "code",
   "execution_count": null,
   "id": "4dc01574-fb1e-432d-b7aa-14109e1fc510",
   "metadata": {},
   "outputs": [],
   "source": [
    "# QUESTION 6"
   ]
  },
  {
   "cell_type": "code",
   "execution_count": null,
   "id": "90060c28-1d00-456d-9305-86b35b8d7b0f",
   "metadata": {},
   "outputs": [],
   "source": [
    "#import yfinance as yf\n",
    "#import matplotlib.pyplot as plt\n",
    "\n",
    "# Define the make_graph function\n",
    "def make_graph(stock_data, title):\n",
    "    plt.figure(figsize=(10, 6))\n",
    "    plt.plot(stock_data.index, stock_data['Close'], label='Close Price')\n",
    "    plt.xlabel('Date')\n",
    "    plt.ylabel('Close Price (USD)')\n",
    "    plt.title(title)\n",
    "    plt.legend()\n",
    "    plt.grid(True)\n",
    "    plt.show()\n",
    "\n",
    "# Download historical data for GameStop\n",
    "GME = yf.Ticker(\"GME\")\n",
    "gme_data = GME.history(period=\"max\")\n",
    "\n",
    "# Use the make_graph function to plot the data with a title\n",
    "make_graph(gme_data, \"GameStop Stock Price History\")"
   ]
  }
 ],
 "metadata": {
  "kernelspec": {
   "display_name": "Python 3 (ipykernel)",
   "language": "python",
   "name": "python3"
  },
  "language_info": {
   "codemirror_mode": {
    "name": "ipython",
    "version": 3
   },
   "file_extension": ".py",
   "mimetype": "text/x-python",
   "name": "python",
   "nbconvert_exporter": "python",
   "pygments_lexer": "ipython3",
   "version": "3.11.9"
  }
 },
 "nbformat": 4,
 "nbformat_minor": 5
}
